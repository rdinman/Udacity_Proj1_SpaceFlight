{
 "cells": [
  {
   "cell_type": "code",
   "execution_count": 2,
   "metadata": {},
   "outputs": [
    {
     "name": "stdout",
     "output_type": "stream",
     "text": [
      "Index(['Unnamed: 0', 'Unnamed: 0.1', 'Company Name', 'Location', 'Datum',\n",
      "       'Detail', 'Status Rocket', ' Rocket', 'Status Mission'],\n",
      "      dtype='object')\n"
     ]
    }
   ],
   "source": [
    "import numpy as np\n",
    "import pandas as pd\n",
    "import matplotlib.pyplot as plt\n",
    "from sklearn.linear_model import LinearRegression\n",
    "from sklearn.linear_model import LogisticRegression\n",
    "from sklearn.model_selection import train_test_split\n",
    "from sklearn.metrics import r2_score, mean_squared_error\n",
    "import seaborn as sns\n",
    "from datetime import datetime\n",
    "import statsmodels.api as sm\n",
    "\n",
    "# %matplotlib inline\n",
    "\n",
    "# https://www.kaggle.com/agirlcoding/all-space-missions-from-1957\n",
    "df = pd.read_csv('./datasets_828921_1417131_Space_Corrected.csv')\n",
    "df.head()\n",
    "print(df.columns)\n",
    "\n"
   ]
  },
  {
   "cell_type": "code",
   "execution_count": 4,
   "metadata": {},
   "outputs": [
    {
     "name": "stdout",
     "output_type": "stream",
     "text": [
      "['Success' 'Failure']\n"
     ]
    }
   ],
   "source": [
    "# Rename a few columns to remove spaces\n",
    "df = df.rename(columns={\"Company Name\": \"Company_Name\", \"Status Rocket\": \"Rocket_Status\", \"Status Mission\": \"Mission_Status\", \" Rocket\": \"Rocket_Price\"})\n",
    "\n",
    "# Create column for Success/Failure. Recode partial failures as failures\n",
    "def Success_Fail(series):\n",
    "\tif series == 'Prelaunch Failure':\n",
    "\t\treturn \"Failure\"\n",
    "\telif series == 'Partial Failure':\n",
    "\t\treturn \"Failure\"\n",
    "\telif series == 'Failure':\n",
    "\t\treturn \"Failure\"\n",
    "\telif series == 'Success':\n",
    "\t\treturn \"Success\"\n",
    "\n",
    "df['SucessFail'] = df['Mission_Status'].apply(Success_Fail)\n",
    "print(df.SucessFail.unique())\n"
   ]
  },
  {
   "cell_type": "code",
   "execution_count": 5,
   "metadata": {},
   "outputs": [
    {
     "name": "stdout",
     "output_type": "stream",
     "text": [
      "<bound method NDFrame.head of      SucessFail Company_Name  Rocket_Price  date_time  YEAR  MONTH  WEEK  \\\n",
      "0       Success       SpaceX         50.00 2020-08-07  2020      8    32   \n",
      "1       Success         CASC         29.75 2020-08-06  2020      8    32   \n",
      "2       Success       SpaceX           NaN 2020-08-04  2020      8    32   \n",
      "3       Success    Roscosmos         65.00 2020-07-30  2020      7    31   \n",
      "4       Success          ULA        145.00 2020-07-30  2020      7    31   \n",
      "...         ...          ...           ...        ...   ...    ...   ...   \n",
      "4319    Failure      US Navy           NaN 1958-02-05  1958      2     6   \n",
      "4320    Success         AMBA           NaN 1958-02-01  1958      2     5   \n",
      "4321    Failure      US Navy           NaN 1957-12-06  1957     12    49   \n",
      "4322    Success    RVSN USSR           NaN 1957-11-03  1957     11    44   \n",
      "4323    Success    RVSN USSR           NaN 1957-10-04  1957     10    40   \n",
      "\n",
      "     WEEKDAY  Failure  Success  \n",
      "0        Fri        0        1  \n",
      "1        Thu        0        1  \n",
      "2        Tue        0        1  \n",
      "3        Thu        0        1  \n",
      "4        Thu        0        1  \n",
      "...      ...      ...      ...  \n",
      "4319     Wed        1        0  \n",
      "4320     Sat        0        1  \n",
      "4321     Fri        1        0  \n",
      "4322     Sun        0        1  \n",
      "4323     Fri        0        1  \n",
      "\n",
      "[4324 rows x 10 columns]>\n"
     ]
    }
   ],
   "source": [
    "# function to return Date Portion of string\n",
    "def get_date_chars(string):\n",
    "    return str(string)[4:16]\n",
    "df[\"date_string\"] = df['Datum'].apply(get_date_chars)\n",
    "\n",
    "# Strip out the commas from date field\n",
    "df[\"date_string\"] = df.date_string.replace(',','', regex=True)\n",
    "\n",
    "# function to return date_time field\n",
    "def get_date_time(string):\n",
    "    return datetime.strptime(string, \"%b %d %Y\")\n",
    "df[\"date_time\"] = df['date_string'].apply(get_date_time)\n",
    "\n",
    "# Get Fields for Year and Month  \n",
    "df['YEAR'] = pd.DatetimeIndex(df['date_time']).year\n",
    "df['MONTH'] = pd.DatetimeIndex(df['date_time']).month\n",
    "df['WEEK'] = df['date_time'].dt.isocalendar().week\n",
    "\n",
    "# get Field for weekday\n",
    "def get_date_chars(string):\n",
    "    return str(string)[0:3]\n",
    "df[\"WEEKDAY\"] = df['Datum'].apply(get_date_chars)\n",
    "\n",
    "# Clean up Rocket_Price\n",
    "# strip commas\n",
    "df[\"Rocket_Price\"] = df.Rocket_Price.replace(',','', regex=True)\n",
    "# Convert Rocket Price to numeric\n",
    "df['Rocket_Price'] = pd.to_numeric(df['Rocket_Price'])\n",
    "\n",
    "\n",
    "# Get our Datafields we want to play with\n",
    "space_df = df[['SucessFail', 'Company_Name', 'Rocket_Price', 'date_time', 'YEAR', 'MONTH', 'WEEK', 'WEEKDAY']]\n",
    "\n",
    "# create dummy columns for success/fail\n",
    "sf = pd.get_dummies(space_df['SucessFail'])\n",
    "# combine resulting dataframe with orginal\n",
    "frames = [space_df, sf]\n",
    "space_df = pd.concat(frames, axis=1)\n",
    "print(space_df.head)\n"
   ]
  },
  {
   "cell_type": "markdown",
   "metadata": {},
   "source": [
    "# Question: Which company has highest success rate? "
   ]
  },
  {
   "cell_type": "code",
   "execution_count": 6,
   "metadata": {},
   "outputs": [
    {
     "data": {
      "image/png": "[encoded data removed]",
      "text/plain": [
       "<Figure size 432x288 with 1 Axes>"
      ]
     },
     "metadata": {
      "needs_background": "light"
     },
     "output_type": "display_data"
    }
   ],
   "source": [
    "# Create df with each row = company; columns = ['Company_Name' 'success_rate', 'n']\n",
    "# Get Success Rate by company\n",
    "success_rate = space_df.groupby(['Company_Name'])['Success'].mean()\n",
    "# Get number of launches\n",
    "company_n = space_df.Company_Name.value_counts()\n",
    "\n",
    "# Combine summary dat\n",
    "frames = [success_rate, company_n]\n",
    "company_df = pd.concat(frames, axis=1)\n",
    "company_df = company_df.rename(columns={\"Success\": \"success_rate\", \"Company_Name\": \"Launches\"})\n",
    "company_df['Company_Name'] = company_df.index\n",
    "\n",
    "# plot success rate by company\n",
    "company_df.success_rate.sort_values().plot(kind=\"bar\", use_index=True)\n",
    "plt.show()\n"
   ]
  },
  {
   "cell_type": "code",
   "execution_count": null,
   "metadata": {},
   "outputs": [],
   "source": []
  },
  {
   "cell_type": "markdown",
   "metadata": {},
   "source": [
    "Formatting of this figure is poor, but we can see that most companies have success rates above 0.8."
   ]
  },
  {
   "cell_type": "code",
   "execution_count": 7,
   "metadata": {},
   "outputs": [
    {
     "data": {
      "image/png": "[encoded data removed]",
      "text/plain": [
       "<Figure size 432x288 with 1 Axes>"
      ]
     },
     "metadata": {
      "needs_background": "light"
     },
     "output_type": "display_data"
    }
   ],
   "source": [
    "# only consider Companies with more than 10 launches\n",
    "company_df_g10 = company_df[company_df['Launches'] >= 10]\n",
    "\n",
    "# plot success rate by company for > 10 launches\n",
    "company_df_g10.success_rate.sort_values().plot(kind=\"bar\", use_index=True)\n",
    "plt.show()\n"
   ]
  },
  {
   "cell_type": "code",
   "execution_count": 8,
   "metadata": {},
   "outputs": [
    {
     "data": {
      "text/html": [
       "<div>\n",
       "<style scoped>\n",
       "    .dataframe tbody tr th:only-of-type {\n",
       "        vertical-align: middle;\n",
       "    }\n",
       "\n",
       "    .dataframe tbody tr th {\n",
       "        vertical-align: top;\n",
       "    }\n",
       "\n",
       "    .dataframe thead th {\n",
       "        text-align: right;\n",
       "    }\n",
       "</style>\n",
       "<table border=\"1\" class=\"dataframe\">\n",
       "  <thead>\n",
       "    <tr style=\"text-align: right;\">\n",
       "      <th></th>\n",
       "      <th>success_rate</th>\n",
       "      <th>Launches</th>\n",
       "      <th>Company_Name</th>\n",
       "    </tr>\n",
       "  </thead>\n",
       "  <tbody>\n",
       "    <tr>\n",
       "      <th>Blue Origin</th>\n",
       "      <td>1.000000</td>\n",
       "      <td>12</td>\n",
       "      <td>Blue Origin</td>\n",
       "    </tr>\n",
       "    <tr>\n",
       "      <th>ULA</th>\n",
       "      <td>0.992857</td>\n",
       "      <td>140</td>\n",
       "      <td>ULA</td>\n",
       "    </tr>\n",
       "    <tr>\n",
       "      <th>ILS</th>\n",
       "      <td>0.978261</td>\n",
       "      <td>46</td>\n",
       "      <td>ILS</td>\n",
       "    </tr>\n",
       "    <tr>\n",
       "      <th>Arianespace</th>\n",
       "      <td>0.964158</td>\n",
       "      <td>279</td>\n",
       "      <td>Arianespace</td>\n",
       "    </tr>\n",
       "    <tr>\n",
       "      <th>Boeing</th>\n",
       "      <td>0.963235</td>\n",
       "      <td>136</td>\n",
       "      <td>Boeing</td>\n",
       "    </tr>\n",
       "    <tr>\n",
       "      <th>Kosmotras</th>\n",
       "      <td>0.954545</td>\n",
       "      <td>22</td>\n",
       "      <td>Kosmotras</td>\n",
       "    </tr>\n",
       "    <tr>\n",
       "      <th>MHI</th>\n",
       "      <td>0.952381</td>\n",
       "      <td>84</td>\n",
       "      <td>MHI</td>\n",
       "    </tr>\n",
       "    <tr>\n",
       "      <th>SpaceX</th>\n",
       "      <td>0.940000</td>\n",
       "      <td>100</td>\n",
       "      <td>SpaceX</td>\n",
       "    </tr>\n",
       "    <tr>\n",
       "      <th>Lockheed</th>\n",
       "      <td>0.936709</td>\n",
       "      <td>79</td>\n",
       "      <td>Lockheed</td>\n",
       "    </tr>\n",
       "    <tr>\n",
       "      <th>VKS RF</th>\n",
       "      <td>0.935323</td>\n",
       "      <td>201</td>\n",
       "      <td>VKS RF</td>\n",
       "    </tr>\n",
       "    <tr>\n",
       "      <th>Roscosmos</th>\n",
       "      <td>0.927273</td>\n",
       "      <td>55</td>\n",
       "      <td>Roscosmos</td>\n",
       "    </tr>\n",
       "    <tr>\n",
       "      <th>Eurockot</th>\n",
       "      <td>0.923077</td>\n",
       "      <td>13</td>\n",
       "      <td>Eurockot</td>\n",
       "    </tr>\n",
       "    <tr>\n",
       "      <th>CASC</th>\n",
       "      <td>0.920319</td>\n",
       "      <td>251</td>\n",
       "      <td>CASC</td>\n",
       "    </tr>\n",
       "    <tr>\n",
       "      <th>Sea Launch</th>\n",
       "      <td>0.916667</td>\n",
       "      <td>36</td>\n",
       "      <td>Sea Launch</td>\n",
       "    </tr>\n",
       "    <tr>\n",
       "      <th>NASA</th>\n",
       "      <td>0.916256</td>\n",
       "      <td>203</td>\n",
       "      <td>NASA</td>\n",
       "    </tr>\n",
       "    <tr>\n",
       "      <th>RVSN USSR</th>\n",
       "      <td>0.908272</td>\n",
       "      <td>1777</td>\n",
       "      <td>RVSN USSR</td>\n",
       "    </tr>\n",
       "    <tr>\n",
       "      <th>ExPace</th>\n",
       "      <td>0.900000</td>\n",
       "      <td>10</td>\n",
       "      <td>ExPace</td>\n",
       "    </tr>\n",
       "    <tr>\n",
       "      <th>Northrop</th>\n",
       "      <td>0.891566</td>\n",
       "      <td>83</td>\n",
       "      <td>Northrop</td>\n",
       "    </tr>\n",
       "    <tr>\n",
       "      <th>Martin Marietta</th>\n",
       "      <td>0.877193</td>\n",
       "      <td>114</td>\n",
       "      <td>Martin Marietta</td>\n",
       "    </tr>\n",
       "    <tr>\n",
       "      <th>ISAS</th>\n",
       "      <td>0.866667</td>\n",
       "      <td>30</td>\n",
       "      <td>ISAS</td>\n",
       "    </tr>\n",
       "    <tr>\n",
       "      <th>Rocket Lab</th>\n",
       "      <td>0.846154</td>\n",
       "      <td>13</td>\n",
       "      <td>Rocket Lab</td>\n",
       "    </tr>\n",
       "    <tr>\n",
       "      <th>ISRO</th>\n",
       "      <td>0.828947</td>\n",
       "      <td>76</td>\n",
       "      <td>ISRO</td>\n",
       "    </tr>\n",
       "    <tr>\n",
       "      <th>IAI</th>\n",
       "      <td>0.818182</td>\n",
       "      <td>11</td>\n",
       "      <td>IAI</td>\n",
       "    </tr>\n",
       "    <tr>\n",
       "      <th>General Dynamics</th>\n",
       "      <td>0.808765</td>\n",
       "      <td>251</td>\n",
       "      <td>General Dynamics</td>\n",
       "    </tr>\n",
       "    <tr>\n",
       "      <th>US Air Force</th>\n",
       "      <td>0.801242</td>\n",
       "      <td>161</td>\n",
       "      <td>US Air Force</td>\n",
       "    </tr>\n",
       "    <tr>\n",
       "      <th>ESA</th>\n",
       "      <td>0.692308</td>\n",
       "      <td>13</td>\n",
       "      <td>ESA</td>\n",
       "    </tr>\n",
       "    <tr>\n",
       "      <th>ISA</th>\n",
       "      <td>0.307692</td>\n",
       "      <td>13</td>\n",
       "      <td>ISA</td>\n",
       "    </tr>\n",
       "    <tr>\n",
       "      <th>US Navy</th>\n",
       "      <td>0.117647</td>\n",
       "      <td>17</td>\n",
       "      <td>US Navy</td>\n",
       "    </tr>\n",
       "  </tbody>\n",
       "</table>\n",
       "</div>"
      ],
      "text/plain": [
       "                  success_rate  Launches      Company_Name\n",
       "Blue Origin           1.000000        12       Blue Origin\n",
       "ULA                   0.992857       140               ULA\n",
       "ILS                   0.978261        46               ILS\n",
       "Arianespace           0.964158       279       Arianespace\n",
       "Boeing                0.963235       136            Boeing\n",
       "Kosmotras             0.954545        22         Kosmotras\n",
       "MHI                   0.952381        84               MHI\n",
       "SpaceX                0.940000       100            SpaceX\n",
       "Lockheed              0.936709        79          Lockheed\n",
       "VKS RF                0.935323       201            VKS RF\n",
       "Roscosmos             0.927273        55         Roscosmos\n",
       "Eurockot              0.923077        13          Eurockot\n",
       "CASC                  0.920319       251              CASC\n",
       "Sea Launch            0.916667        36        Sea Launch\n",
       "NASA                  0.916256       203              NASA\n",
       "RVSN USSR             0.908272      1777         RVSN USSR\n",
       "ExPace                0.900000        10            ExPace\n",
       "Northrop              0.891566        83          Northrop\n",
       "Martin Marietta       0.877193       114   Martin Marietta\n",
       "ISAS                  0.866667        30              ISAS\n",
       "Rocket Lab            0.846154        13        Rocket Lab\n",
       "ISRO                  0.828947        76              ISRO\n",
       "IAI                   0.818182        11               IAI\n",
       "General Dynamics      0.808765       251  General Dynamics\n",
       "US Air Force          0.801242       161      US Air Force\n",
       "ESA                   0.692308        13               ESA\n",
       "ISA                   0.307692        13               ISA\n",
       "US Navy               0.117647        17           US Navy"
      ]
     },
     "execution_count": 8,
     "metadata": {},
     "output_type": "execute_result"
    }
   ],
   "source": [
    "# look at top companies and their launch success\n",
    "company_df_g10.sort_values(by=['success_rate'], ascending=False)"
   ]
  },
  {
   "cell_type": "markdown",
   "metadata": {},
   "source": [
    "# Qustion: Has success rate improved through time? "
   ]
  },
  {
   "cell_type": "code",
   "execution_count": 9,
   "metadata": {},
   "outputs": [
    {
     "data": {
      "image/png": "[encoded data removed]",
      "text/plain": [
       "<Figure size 432x288 with 1 Axes>"
      ]
     },
     "metadata": {
      "needs_background": "light"
     },
     "output_type": "display_data"
    }
   ],
   "source": [
    "# Create df with each row = year, columns = ['YEAR' 'success_rate', 'n']\n",
    "# Get Success Rate by year\n",
    "success_rate = space_df.groupby(['YEAR'])['Success'].mean()\n",
    "# Get N\n",
    "year_launches = space_df.YEAR.value_counts()\n",
    "# Get mean money spent by year\n",
    "rocket_costs = space_df.groupby(['YEAR'])['Rocket_Price'].mean()\n",
    "\n",
    "# Combine summary dat\n",
    "frames = [success_rate, year_launches, rocket_costs]\n",
    "YEAR_df = pd.concat(frames, axis=1)\n",
    "YEAR_df = YEAR_df.rename(columns={\"Success\": \"success_rate\", \"YEAR\": \"Launches\"})\n",
    "YEAR_df['YEAR'] = YEAR_df.index\n",
    "\n",
    "# Plot sucess by year\n",
    "YEAR_df.sort_values(by=['YEAR']).success_rate.plot(kind=\"line\", use_index=True)\n",
    "plt.show()"
   ]
  },
  {
   "cell_type": "markdown",
   "metadata": {},
   "source": [
    "We can smooth this plot by taking running average"
   ]
  },
  {
   "cell_type": "code",
   "execution_count": 10,
   "metadata": {},
   "outputs": [
    {
     "data": {
      "image/png": "[encoded data removed]",
      "text/plain": [
       "<Figure size 432x288 with 1 Axes>"
      ]
     },
     "metadata": {
      "needs_background": "light"
     },
     "output_type": "display_data"
    }
   ],
   "source": [
    "# Smooth data with 3 year running average\n",
    "YEAR_df['success_mv_ave'] = YEAR_df.sort_values(by=['YEAR']).success_rate.rolling(window=5).mean()\n",
    "\n",
    "# Plot smoothed sucess by year\n",
    "YEAR_df.sort_values(by=['YEAR']).success_mv_ave.plot(kind=\"line\", use_index=True)\n",
    "plt.show()"
   ]
  },
  {
   "cell_type": "code",
   "execution_count": 11,
   "metadata": {},
   "outputs": [
    {
     "data": {
      "image/png": "[encoded data removed]",
      "text/plain": [
       "<Figure size 432x288 with 1 Axes>"
      ]
     },
     "metadata": {
      "needs_background": "light"
     },
     "output_type": "display_data"
    }
   ],
   "source": [
    "# Plot launches by year\n",
    "YEAR_df.sort_values(by=['YEAR']).Launches.plot(kind=\"line\", use_index=True)\n",
    "plt.show()"
   ]
  },
  {
   "cell_type": "markdown",
   "metadata": {},
   "source": [
    "While launch success has remained fairly constant since the mid-70's, the number of launches has changed substantially. Decreases from the 70's through the great recession of 2008-2010, but dramatic increases in launches from 2013 through the present. The final year 2020 is not complete, and hence shows a drop in total launches. "
   ]
  },
  {
   "cell_type": "code",
   "execution_count": 14,
   "metadata": {},
   "outputs": [
    {
     "data": {
      "image/png": "[encoded data removed]",
      "text/plain": [
       "<Figure size 432x288 with 1 Axes>"
      ]
     },
     "metadata": {
      "needs_background": "light"
     },
     "output_type": "display_data"
    }
   ],
   "source": [
    "# Look at launches and success rate\n",
    "plt.plot(YEAR_df.Launches, YEAR_df.success_rate, 'o', alpha=0.2);\n",
    "plt.show()"
   ]
  },
  {
   "cell_type": "code",
   "execution_count": 13,
   "metadata": {},
   "outputs": [
    {
     "name": "stdout",
     "output_type": "stream",
     "text": [
      "0.14025825752007548\n",
      "-0.00021890414969671923\n"
     ]
    }
   ],
   "source": [
    "# Create simple linear fit model to see if the number of launches\n",
    "# per year is related to success rate.\n",
    "\n",
    "# create dataframe for X,y\n",
    "X = YEAR_df[['Launches']]\n",
    "y = YEAR_df['success_rate']\n",
    "\n",
    "# split out some training and testing datasets\n",
    "X_train, X_test, y_train, y_test = train_test_split(X, y, test_size = .30, random_state=42) \n",
    "\n",
    "# initialize and fit model\n",
    "lm_model = LinearRegression(normalize=True) \n",
    "lm_model.fit(X_train, y_train) \n",
    "\n",
    "# predict response with testing dataset \n",
    "y_test_preds = lm_model.predict(X_test)\n",
    "y_train_preds = lm_model.predict(X_train) \n",
    "\n",
    "# simple test metric of R2\n",
    "train_score = r2_score(y_train, y_train_preds)\n",
    "test_score = r2_score(y_test, y_test_preds)\n",
    "\n",
    "print(train_score)\n",
    "print(test_score)"
   ]
  },
  {
   "cell_type": "markdown",
   "metadata": {},
   "source": [
    "R2 test score is very low. We will need additional stats to determine if total number of launches per year show any relationship with launch success. "
   ]
  },
  {
   "cell_type": "markdown",
   "metadata": {},
   "source": [
    "# Question: Has the day of the week or the week of the year of launch changed over the past ~ 50 years? "
   ]
  },
  {
   "cell_type": "code",
   "execution_count": 15,
   "metadata": {},
   "outputs": [
    {
     "data": {
      "image/png": "[encoded data removed]",
      "text/plain": [
       "<Figure size 432x288 with 1 Axes>"
      ]
     },
     "metadata": {
      "needs_background": "light"
     },
     "output_type": "display_data"
    }
   ],
   "source": [
    "# Get Success Rate by year\n",
    "success_rate = space_df.groupby(['YEAR'])['Success'].mean()\n",
    "# Get N\n",
    "year_launches = space_df.YEAR.value_counts()\n",
    "# Get mean week by year\n",
    "mean_week = space_df.groupby(['YEAR'])['WEEK'].mean()\n",
    "\n",
    "# Combine summary dat\n",
    "frames = [success_rate, year_launches, mean_week]\n",
    "YEAR_df = pd.concat(frames, axis=1)\n",
    "YEAR_df = YEAR_df.rename(columns={\"Success\": \"success_rate\", \"YEAR\": \"Launches\"})\n",
    "YEAR_df['YEAR'] = YEAR_df.index\n",
    "\n",
    "# Plot mean WEEK by year\n",
    "YEAR_df.sort_values(by=['YEAR']).WEEK.plot(kind=\"line\", use_index=True)\n",
    "plt.show()"
   ]
  },
  {
   "cell_type": "markdown",
   "metadata": {},
   "source": [
    "If we ignore the first and last years, the week that a launch occurrs on has not really changed through time. This is good. "
   ]
  },
  {
   "cell_type": "code",
   "execution_count": 19,
   "metadata": {},
   "outputs": [
    {
     "data": {
      "image/png": "[encoded data removed]",
      "text/plain": [
       "<Figure size 432x288 with 1 Axes>"
      ]
     },
     "metadata": {
      "needs_background": "light"
     },
     "output_type": "display_data"
    }
   ],
   "source": [
    "# Look at mean week and success rate\n",
    "plt.plot(YEAR_df.WEEK, YEAR_df.success_rate, 'o', alpha=0.2);\n",
    "plt.show()"
   ]
  },
  {
   "cell_type": "code",
   "execution_count": 17,
   "metadata": {},
   "outputs": [
    {
     "name": "stdout",
     "output_type": "stream",
     "text": [
      "0.08296849033184284\n",
      "0.26202433883044896\n"
     ]
    }
   ],
   "source": [
    "# Create simple linear fit model to see if the mean week \n",
    "# per year is related to success rate.\n",
    "\n",
    "# create dataframe for X,y\n",
    "X = YEAR_df[['WEEK']]\n",
    "y = YEAR_df['success_rate']\n",
    "\n",
    "# split out some training and testing datasets\n",
    "X_train, X_test, y_train, y_test = train_test_split(X, y, test_size = .30, random_state=42) \n",
    "\n",
    "# initialize and fit model\n",
    "lm_model = LinearRegression(normalize=True) \n",
    "lm_model.fit(X_train, y_train) \n",
    "\n",
    "# predict response with testing dataset \n",
    "y_test_preds = lm_model.predict(X_test)\n",
    "y_train_preds = lm_model.predict(X_train) \n",
    "\n",
    "# simple test metric of R2\n",
    "train_score = r2_score(y_train, y_train_preds)\n",
    "test_score = r2_score(y_test, y_test_preds)\n",
    "\n",
    "print(train_score)\n",
    "print(test_score)"
   ]
  },
  {
   "cell_type": "markdown",
   "metadata": {},
   "source": [
    "R2 test score is super low. We will need additional stats to determine if week of year shows any relationship with launch success. "
   ]
  },
  {
   "cell_type": "markdown",
   "metadata": {},
   "source": [
    "# Does launch success improve with experience?"
   ]
  },
  {
   "cell_type": "code",
   "execution_count": 20,
   "metadata": {},
   "outputs": [
    {
     "name": "stdout",
     "output_type": "stream",
     "text": [
      "<bound method NDFrame.head of      SucessFail Company_Name  Rocket_Price  date_time  YEAR MONTH  WEEK  \\\n",
      "929     Failure       SpaceX           7.0 2006-03-24  2006     3    12   \n",
      "879     Failure       SpaceX           7.0 2007-03-21  2007     3    12   \n",
      "808     Failure       SpaceX           7.0 2008-08-03  2008     8    31   \n",
      "800     Success       SpaceX           7.0 2008-09-28  2008     9    39   \n",
      "763     Success       SpaceX           7.0 2009-07-14  2009     7    29   \n",
      "...         ...          ...           ...        ...   ...   ...   ...   \n",
      "4300    Failure      US Navy           NaN 1958-09-26  1958     9    39   \n",
      "4291    Success      US Navy           NaN 1959-02-17  1959     2     8   \n",
      "4288    Failure      US Navy           NaN 1959-04-14  1959     4    16   \n",
      "4285    Failure      US Navy           NaN 1959-06-22  1959     6    26   \n",
      "4277    Failure      US Navy           NaN 1959-09-18  1959     9    38   \n",
      "\n",
      "     WEEKDAY Failure Success Index1 CumLaunches  \n",
      "929      Fri       1       0      1           1  \n",
      "879      Wed       1       0      1           2  \n",
      "808      Sun       1       0      1           3  \n",
      "800      Sun       0       1      1           4  \n",
      "763      Tue       0       1      1           5  \n",
      "...      ...     ...     ...    ...         ...  \n",
      "4300     Fri       1       0      1          13  \n",
      "4291     Tue       0       1      1          14  \n",
      "4288     Tue       1       0      1          15  \n",
      "4285     Mon       1       0      1          16  \n",
      "4277     Fri       1       0      1          17  \n",
      "\n",
      "[4324 rows x 12 columns]>\n"
     ]
    }
   ],
   "source": [
    "# Create dummy column with total number of launches by year for that particular company.\n",
    "# we will use this to get cumulative launches for each company at a given launch.  \n",
    "space_df['Index1'] = 1\n",
    "# Create column to store cumulative values \n",
    "space_df['CumLaunches'] = 1\n",
    "# create blank dataset to join with\n",
    "joindat = pd.DataFrame(columns = space_df.columns)\n",
    "\n",
    "# Function to create cumulative launch number for each launch by company. \n",
    "# For example, for a given company, that has 10 launches, we want to see if the\n",
    "# probability of success increases from the first to the last launch. Ie, does having more launches\n",
    "#  equate to higher launch success.\n",
    "def create_sum_launches(df, joindat, companies):\n",
    "\tfor cp in  companies:\n",
    "\t\t\ttry:\n",
    "\t\t\t\tx = df[df['Company_Name'] == cp].sort_values(by=['date_time'])\n",
    "\t\t\t\tx['CumLaunches'] = x.Index1.cumsum()\n",
    "\t\t\t\tframes = [joindat, x]\n",
    "\t\t\t\tjoindat = pd.concat(frames, axis=0)\n",
    "\t\t\texcept:\n",
    "\t\t\t\tcontinue\n",
    "\treturn joindat\n",
    "\n",
    "companies = space_df.Company_Name.unique()\n",
    "cumulative_launches_df = create_sum_launches(space_df, joindat, companies)\n",
    "print(cumulative_launches_df.head)"
   ]
  },
  {
   "cell_type": "code",
   "execution_count": 21,
   "metadata": {},
   "outputs": [
    {
     "data": {
      "image/png": "[encoded data removed]",
      "text/plain": [
       "<Figure size 432x288 with 1 Axes>"
      ]
     },
     "metadata": {
      "needs_background": "light"
     },
     "output_type": "display_data"
    }
   ],
   "source": [
    "# Plot success by cumulative launches\n",
    "plt.plot(cumulative_launches_df.CumLaunches, cumulative_launches_df.Success, 'o', color='black');\n",
    "plt.show()"
   ]
  },
  {
   "cell_type": "markdown",
   "metadata": {},
   "source": [
    "Doesn't look like there is much evidence for cumulative launches = higher success probability. "
   ]
  },
  {
   "cell_type": "code",
   "execution_count": 28,
   "metadata": {},
   "outputs": [
    {
     "name": "stdout",
     "output_type": "stream",
     "text": [
      "0.05778764027452521\n",
      "0.024107327272934076\n"
     ]
    }
   ],
   "source": [
    "#  Create simple linear fit model to see if the mean week \n",
    "# per year is related to success rate.\n",
    "\n",
    "# create dataframe for X,y\n",
    "X = cumulative_launches_df[['CumLaunches', 'YEAR']]\n",
    "y = cumulative_launches_df['Success']\n",
    "# set y as integer for Logistic Regression\n",
    "y=y.astype('int')\n",
    "\n",
    "# split out some training and testing datasets\n",
    "X_train, X_test, y_train, y_test = train_test_split(X, y, test_size = .30, random_state=42) \n",
    "\n",
    "# linear Regression\n",
    "lm_model = LinearRegression(normalize=True) \n",
    "lm_model.fit(X_train, y_train) \n",
    "\n",
    "# predict response with testing dataset \n",
    "y_test_preds = lm_model.predict(X_test)\n",
    "y_train_preds = lm_model.predict(X_train) \n",
    "\n",
    "# simple test metric of R2\n",
    "train_score = r2_score(y_train, y_train_preds)\n",
    "test_score = r2_score(y_test, y_test_preds)\n",
    "\n",
    "print(train_score)\n",
    "print(test_score)"
   ]
  },
  {
   "cell_type": "code",
   "execution_count": 29,
   "metadata": {},
   "outputs": [
    {
     "data": {
      "image/png": "[encoded data removed]",
      "text/plain": [
       "<Figure size 432x288 with 1 Axes>"
      ]
     },
     "metadata": {
      "needs_background": "light"
     },
     "output_type": "display_data"
    }
   ],
   "source": [
    "# Look at train y & y predictions\n",
    "plt.plot(y_train_preds, y_train, 'o', color='black');\n",
    "plt.show()"
   ]
  },
  {
   "cell_type": "markdown",
   "metadata": {},
   "source": [
    "Clearly poor fitting model that is not appropriate for these data. Will need to look into other model forms. Possibly a threshold with cumulative launches, such that non-linear (GAM, or such) could be useful.  "
   ]
  }
 ],
 "metadata": {
  "kernelspec": {
   "display_name": "Python 3",
   "language": "python",
   "name": "python3"
  },
  "language_info": {
   "codemirror_mode": {
    "name": "ipython",
    "version": 3
   },
   "file_extension": ".py",
   "mimetype": "text/x-python",
   "name": "python",
   "nbconvert_exporter": "python",
   "pygments_lexer": "ipython3",
   "version": "3.7.7"
  }
 },
 "nbformat": 4,
 "nbformat_minor": 4
}
