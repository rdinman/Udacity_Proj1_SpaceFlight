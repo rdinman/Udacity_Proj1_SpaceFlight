{
 "cells": [
  {
   "cell_type": "markdown",
   "metadata": {},
   "source": [
    "# Exploring Space Launch Success\n",
    "In this notebook, you can use Python3 to explore a sample dataset scraped from [Next Spaceflight](https://nextspaceflight.com/launches/past/?page=1). Data are obtained from [@agirlcoding](https://www.kaggle.com/agirlcoding) on [Kaggle](https://www.kaggle.com/agirlcoding/all-space-missions-from-1957)."
   ]
  },
  {
   "cell_type": "code",
   "execution_count": 146,
   "metadata": {},
   "outputs": [
    {
     "data": {
      "text/html": [
       "<div>\n",
       "<style scoped>\n",
       "    .dataframe tbody tr th:only-of-type {\n",
       "        vertical-align: middle;\n",
       "    }\n",
       "\n",
       "    .dataframe tbody tr th {\n",
       "        vertical-align: top;\n",
       "    }\n",
       "\n",
       "    .dataframe thead th {\n",
       "        text-align: right;\n",
       "    }\n",
       "</style>\n",
       "<table border=\"1\" class=\"dataframe\">\n",
       "  <thead>\n",
       "    <tr style=\"text-align: right;\">\n",
       "      <th></th>\n",
       "      <th>Unnamed: 0</th>\n",
       "      <th>Unnamed: 0.1</th>\n",
       "      <th>Company Name</th>\n",
       "      <th>Location</th>\n",
       "      <th>Datum</th>\n",
       "      <th>Detail</th>\n",
       "      <th>Status Rocket</th>\n",
       "      <th>Rocket</th>\n",
       "      <th>Status Mission</th>\n",
       "    </tr>\n",
       "  </thead>\n",
       "  <tbody>\n",
       "    <tr>\n",
       "      <th>0</th>\n",
       "      <td>0</td>\n",
       "      <td>0</td>\n",
       "      <td>SpaceX</td>\n",
       "      <td>LC-39A, Kennedy Space Center, Florida, USA</td>\n",
       "      <td>Fri Aug 07, 2020 05:12 UTC</td>\n",
       "      <td>Falcon 9 Block 5 | Starlink V1 L9 &amp; BlackSky</td>\n",
       "      <td>StatusActive</td>\n",
       "      <td>50.0</td>\n",
       "      <td>Success</td>\n",
       "    </tr>\n",
       "    <tr>\n",
       "      <th>1</th>\n",
       "      <td>1</td>\n",
       "      <td>1</td>\n",
       "      <td>CASC</td>\n",
       "      <td>Site 9401 (SLS-2), Jiuquan Satellite Launch Ce...</td>\n",
       "      <td>Thu Aug 06, 2020 04:01 UTC</td>\n",
       "      <td>Long March 2D | Gaofen-9 04 &amp; Q-SAT</td>\n",
       "      <td>StatusActive</td>\n",
       "      <td>29.75</td>\n",
       "      <td>Success</td>\n",
       "    </tr>\n",
       "    <tr>\n",
       "      <th>2</th>\n",
       "      <td>2</td>\n",
       "      <td>2</td>\n",
       "      <td>SpaceX</td>\n",
       "      <td>Pad A, Boca Chica, Texas, USA</td>\n",
       "      <td>Tue Aug 04, 2020 23:57 UTC</td>\n",
       "      <td>Starship Prototype | 150 Meter Hop</td>\n",
       "      <td>StatusActive</td>\n",
       "      <td>NaN</td>\n",
       "      <td>Success</td>\n",
       "    </tr>\n",
       "    <tr>\n",
       "      <th>3</th>\n",
       "      <td>3</td>\n",
       "      <td>3</td>\n",
       "      <td>Roscosmos</td>\n",
       "      <td>Site 200/39, Baikonur Cosmodrome, Kazakhstan</td>\n",
       "      <td>Thu Jul 30, 2020 21:25 UTC</td>\n",
       "      <td>Proton-M/Briz-M | Ekspress-80 &amp; Ekspress-103</td>\n",
       "      <td>StatusActive</td>\n",
       "      <td>65.0</td>\n",
       "      <td>Success</td>\n",
       "    </tr>\n",
       "    <tr>\n",
       "      <th>4</th>\n",
       "      <td>4</td>\n",
       "      <td>4</td>\n",
       "      <td>ULA</td>\n",
       "      <td>SLC-41, Cape Canaveral AFS, Florida, USA</td>\n",
       "      <td>Thu Jul 30, 2020 11:50 UTC</td>\n",
       "      <td>Atlas V 541 | Perseverance</td>\n",
       "      <td>StatusActive</td>\n",
       "      <td>145.0</td>\n",
       "      <td>Success</td>\n",
       "    </tr>\n",
       "  </tbody>\n",
       "</table>\n",
       "</div>"
      ],
      "text/plain": [
       "   Unnamed: 0  Unnamed: 0.1 Company Name  \\\n",
       "0           0             0       SpaceX   \n",
       "1           1             1         CASC   \n",
       "2           2             2       SpaceX   \n",
       "3           3             3    Roscosmos   \n",
       "4           4             4          ULA   \n",
       "\n",
       "                                            Location  \\\n",
       "0         LC-39A, Kennedy Space Center, Florida, USA   \n",
       "1  Site 9401 (SLS-2), Jiuquan Satellite Launch Ce...   \n",
       "2                      Pad A, Boca Chica, Texas, USA   \n",
       "3       Site 200/39, Baikonur Cosmodrome, Kazakhstan   \n",
       "4           SLC-41, Cape Canaveral AFS, Florida, USA   \n",
       "\n",
       "                        Datum                                        Detail  \\\n",
       "0  Fri Aug 07, 2020 05:12 UTC  Falcon 9 Block 5 | Starlink V1 L9 & BlackSky   \n",
       "1  Thu Aug 06, 2020 04:01 UTC           Long March 2D | Gaofen-9 04 & Q-SAT   \n",
       "2  Tue Aug 04, 2020 23:57 UTC            Starship Prototype | 150 Meter Hop   \n",
       "3  Thu Jul 30, 2020 21:25 UTC  Proton-M/Briz-M | Ekspress-80 & Ekspress-103   \n",
       "4  Thu Jul 30, 2020 11:50 UTC                    Atlas V 541 | Perseverance   \n",
       "\n",
       "  Status Rocket  Rocket Status Mission  \n",
       "0  StatusActive   50.0         Success  \n",
       "1  StatusActive  29.75         Success  \n",
       "2  StatusActive     NaN        Success  \n",
       "3  StatusActive   65.0         Success  \n",
       "4  StatusActive  145.0         Success  "
      ]
     },
     "execution_count": 146,
     "metadata": {},
     "output_type": "execute_result"
    }
   ],
   "source": [
    "# set up python environment\n",
    "import numpy as np\n",
    "import pandas as pd\n",
    "import matplotlib.pyplot as plt\n",
    "from sklearn.linear_model import LinearRegression\n",
    "from sklearn.linear_model import LogisticRegression\n",
    "from sklearn.model_selection import train_test_split\n",
    "from sklearn.metrics import r2_score, mean_squared_error\n",
    "import seaborn as sns\n",
    "from datetime import datetime\n",
    "import statsmodels.api as sm\n",
    "%matplotlib inline\n",
    "\n",
    "# import raw dataset\n",
    "df = pd.read_csv('./datasets_828921_1417131_Space_Corrected.csv')\n",
    "df.head()"
   ]
  },
  {
   "cell_type": "code",
   "execution_count": 147,
   "metadata": {},
   "outputs": [
    {
     "data": {
      "text/plain": [
       "array(['Success', 'Failure'], dtype=object)"
      ]
     },
     "execution_count": 147,
     "metadata": {},
     "output_type": "execute_result"
    }
   ],
   "source": [
    "# Rename columns to remove spaces\n",
    "df = df.rename(columns={\"Company Name\": \"Company_Name\", \"Status Rocket\": \"Rocket_Status\", \"Status Mission\": \"Mission_Status\", \" Rocket\": \"Rocket_Price\"})\n",
    "\n",
    "# Function for creating new column for Success/Failure. Recode partial and prelaunch failures as failures.\n",
    "def Success_Fail(series):\n",
    "\tif series == 'Prelaunch Failure':\n",
    "\t\treturn \"Failure\"\n",
    "\telif series == 'Partial Failure':\n",
    "\t\treturn \"Failure\"\n",
    "\telif series == 'Failure':\n",
    "\t\treturn \"Failure\"\n",
    "\telif series == 'Success':\n",
    "\t\treturn \"Success\"\n",
    "\n",
    "# Apply function to 'Mission_Status' and create 'SucessFail'\n",
    "df['SucessFail'] = df['Mission_Status'].apply(Success_Fail)\n",
    "\n",
    "# Confirm function has worked\n",
    "df.SucessFail.unique()"
   ]
  },
  {
   "cell_type": "markdown",
   "metadata": {},
   "source": [
    "In order to explore temporal patterns, we need columns with the year, month, week, etc. We need to create these columns from the 'Datum' column that contains date information as a string. "
   ]
  },
  {
   "cell_type": "code",
   "execution_count": 148,
   "metadata": {},
   "outputs": [
    {
     "data": {
      "text/html": [
       "<div>\n",
       "<style scoped>\n",
       "    .dataframe tbody tr th:only-of-type {\n",
       "        vertical-align: middle;\n",
       "    }\n",
       "\n",
       "    .dataframe tbody tr th {\n",
       "        vertical-align: top;\n",
       "    }\n",
       "\n",
       "    .dataframe thead th {\n",
       "        text-align: right;\n",
       "    }\n",
       "</style>\n",
       "<table border=\"1\" class=\"dataframe\">\n",
       "  <thead>\n",
       "    <tr style=\"text-align: right;\">\n",
       "      <th></th>\n",
       "      <th>SucessFail</th>\n",
       "      <th>Company_Name</th>\n",
       "      <th>Rocket_Price</th>\n",
       "      <th>date_time</th>\n",
       "      <th>YEAR</th>\n",
       "      <th>MONTH</th>\n",
       "      <th>WEEK</th>\n",
       "      <th>WEEKDAY</th>\n",
       "      <th>Failure</th>\n",
       "      <th>Success</th>\n",
       "    </tr>\n",
       "  </thead>\n",
       "  <tbody>\n",
       "    <tr>\n",
       "      <th>0</th>\n",
       "      <td>Success</td>\n",
       "      <td>SpaceX</td>\n",
       "      <td>50.00</td>\n",
       "      <td>2020-08-07</td>\n",
       "      <td>2020</td>\n",
       "      <td>8</td>\n",
       "      <td>32</td>\n",
       "      <td>Fri</td>\n",
       "      <td>0</td>\n",
       "      <td>1</td>\n",
       "    </tr>\n",
       "    <tr>\n",
       "      <th>1</th>\n",
       "      <td>Success</td>\n",
       "      <td>CASC</td>\n",
       "      <td>29.75</td>\n",
       "      <td>2020-08-06</td>\n",
       "      <td>2020</td>\n",
       "      <td>8</td>\n",
       "      <td>32</td>\n",
       "      <td>Thu</td>\n",
       "      <td>0</td>\n",
       "      <td>1</td>\n",
       "    </tr>\n",
       "    <tr>\n",
       "      <th>2</th>\n",
       "      <td>Success</td>\n",
       "      <td>SpaceX</td>\n",
       "      <td>NaN</td>\n",
       "      <td>2020-08-04</td>\n",
       "      <td>2020</td>\n",
       "      <td>8</td>\n",
       "      <td>32</td>\n",
       "      <td>Tue</td>\n",
       "      <td>0</td>\n",
       "      <td>1</td>\n",
       "    </tr>\n",
       "    <tr>\n",
       "      <th>3</th>\n",
       "      <td>Success</td>\n",
       "      <td>Roscosmos</td>\n",
       "      <td>65.00</td>\n",
       "      <td>2020-07-30</td>\n",
       "      <td>2020</td>\n",
       "      <td>7</td>\n",
       "      <td>31</td>\n",
       "      <td>Thu</td>\n",
       "      <td>0</td>\n",
       "      <td>1</td>\n",
       "    </tr>\n",
       "    <tr>\n",
       "      <th>4</th>\n",
       "      <td>Success</td>\n",
       "      <td>ULA</td>\n",
       "      <td>145.00</td>\n",
       "      <td>2020-07-30</td>\n",
       "      <td>2020</td>\n",
       "      <td>7</td>\n",
       "      <td>31</td>\n",
       "      <td>Thu</td>\n",
       "      <td>0</td>\n",
       "      <td>1</td>\n",
       "    </tr>\n",
       "  </tbody>\n",
       "</table>\n",
       "</div>"
      ],
      "text/plain": [
       "  SucessFail Company_Name  Rocket_Price  date_time  YEAR  MONTH  WEEK WEEKDAY  \\\n",
       "0    Success       SpaceX         50.00 2020-08-07  2020      8    32     Fri   \n",
       "1    Success         CASC         29.75 2020-08-06  2020      8    32     Thu   \n",
       "2    Success       SpaceX           NaN 2020-08-04  2020      8    32     Tue   \n",
       "3    Success    Roscosmos         65.00 2020-07-30  2020      7    31     Thu   \n",
       "4    Success          ULA        145.00 2020-07-30  2020      7    31     Thu   \n",
       "\n",
       "   Failure  Success  \n",
       "0        0        1  \n",
       "1        0        1  \n",
       "2        0        1  \n",
       "3        0        1  \n",
       "4        0        1  "
      ]
     },
     "execution_count": 148,
     "metadata": {},
     "output_type": "execute_result"
    }
   ],
   "source": [
    "# Datum column contains date information, but is not usable for temporal calculations. \n",
    "df.Datum.unique()\n",
    "\n",
    "# function to return date portion of string\n",
    "def get_date_chars(string):\n",
    "    return str(string)[4:16]\n",
    "df[\"date_string\"] = df['Datum'].apply(get_date_chars)\n",
    "\n",
    "# Strip out the commas from newly created date string\n",
    "df[\"date_string\"] = df.date_string.replace(',','', regex=True)\n",
    "\n",
    "# function to return a date_time field\n",
    "def get_date_time(string):\n",
    "    return datetime.strptime(string, \"%b %d %Y\")\n",
    "df[\"date_time\"] = df['date_string'].apply(get_date_time)\n",
    "\n",
    "# Create Fields for Year, Month and Week\n",
    "df['YEAR'] = pd.DatetimeIndex(df['date_time']).year\n",
    "df['MONTH'] = pd.DatetimeIndex(df['date_time']).month\n",
    "df['WEEK'] = df['date_time'].dt.isocalendar().week\n",
    "\n",
    "# Create field for weekday\n",
    "def get_date_chars(string):\n",
    "    return str(string)[0:3]\n",
    "df[\"WEEKDAY\"] = df['Datum'].apply(get_date_chars)\n",
    "\n",
    "# Clean up Rocket_Price\n",
    "df[\"Rocket_Price\"] = df.Rocket_Price.replace(',','', regex=True) # strip commas\n",
    "df['Rocket_Price'] = pd.to_numeric(df['Rocket_Price']) # Convert Rocket Price to numeric\n",
    "\n",
    "# Create dataframe with fields we want to explore\n",
    "space_df = df[['SucessFail', 'Company_Name', 'Rocket_Price', 'date_time', 'YEAR', 'MONTH', 'WEEK', 'WEEKDAY']]\n",
    "\n",
    "# create dummy columns for success/fail\n",
    "sf = pd.get_dummies(space_df['SucessFail'])\n",
    "\n",
    "# combine resulting dataframe with space_df\n",
    "frames = [space_df, sf] # create list of dataframes to combine\n",
    "space_df = pd.concat(frames, axis=1) # concatenate the frames\n",
    "\n",
    "# look at dataset\n",
    "space_df.head()"
   ]
  },
  {
   "cell_type": "markdown",
   "metadata": {},
   "source": [
    "# Question: Has success rate improved through time? "
   ]
  },
  {
   "cell_type": "code",
   "execution_count": 149,
   "metadata": {},
   "outputs": [
    {
     "data": {
      "image/png": "[encoded data removed]",
      "text/plain": [
       "<Figure size 432x288 with 1 Axes>"
      ]
     },
     "metadata": {
      "needs_background": "light"
     },
     "output_type": "display_data"
    }
   ],
   "source": [
    "# Create df with each row = year, columns = ['YEAR' 'success_rate', 'n']\n",
    "# Get Success Rate by year\n",
    "success_rate = space_df.groupby(['YEAR'])['Success'].mean()\n",
    "# Get N\n",
    "year_launches = space_df.YEAR.value_counts()\n",
    "# Get mean money spent by year\n",
    "rocket_costs = space_df.groupby(['YEAR'])['Rocket_Price'].mean()\n",
    "\n",
    "# Combine summary dat\n",
    "frames = [success_rate, year_launches, rocket_costs]\n",
    "YEAR_df = pd.concat(frames, axis=1)\n",
    "YEAR_df = YEAR_df.rename(columns={\"Success\": \"success_rate\", \"YEAR\": \"Launches\"})\n",
    "YEAR_df['YEAR'] = YEAR_df.index\n",
    "\n",
    "# Plot sucess by year\n",
    "YEAR_df.sort_values(by=['YEAR']).success_rate.plot(kind=\"line\", use_index=True)\n",
    "plt.xlabel('Year')\n",
    "plt.ylabel('success_rate')\n",
    "plt.show()"
   ]
  },
  {
   "cell_type": "markdown",
   "metadata": {},
   "source": [
    "We can smooth this plot by taking a running average."
   ]
  },
  {
   "cell_type": "code",
   "execution_count": 150,
   "metadata": {},
   "outputs": [
    {
     "data": {
      "image/png": "[encoded data removed]",
      "text/plain": [
       "<Figure size 432x288 with 1 Axes>"
      ]
     },
     "metadata": {
      "needs_background": "light"
     },
     "output_type": "display_data"
    }
   ],
   "source": [
    "# Smooth data with 5 year running average\n",
    "YEAR_df['success_mv_ave'] = YEAR_df.sort_values(by=['YEAR']).success_rate.rolling(window=5).mean()\n",
    "\n",
    "# Plot smoothed sucess by year\n",
    "YEAR_df.sort_values(by=['YEAR']).success_mv_ave.plot(kind=\"line\", use_index=True)\n",
    "plt.xlabel('Year')\n",
    "plt.ylabel('success_rate')\n",
    "plt.show()"
   ]
  },
  {
   "cell_type": "markdown",
   "metadata": {},
   "source": [
    "Success rate appears to stabalize after 1980. Let's look at the number of launches per year. "
   ]
  },
  {
   "cell_type": "code",
   "execution_count": 151,
   "metadata": {},
   "outputs": [
    {
     "data": {
      "image/png": "[encoded data removed]",
      "text/plain": [
       "<Figure size 432x288 with 1 Axes>"
      ]
     },
     "metadata": {
      "needs_background": "light"
     },
     "output_type": "display_data"
    }
   ],
   "source": [
    "# Plot launches by year\n",
    "YEAR_df.sort_values(by=['YEAR']).Launches.plot(kind=\"line\", use_index=True)\n",
    "plt.xlabel('Year')\n",
    "plt.ylabel('Number of Launches')\n",
    "plt.show()"
   ]
  },
  {
   "cell_type": "markdown",
   "metadata": {},
   "source": [
    "While launch success has remained fairly constant since the mid-70's, the number of launches has changed substantially. Decreases from the 70's through the great recession of 2008-2010 are apparent, but dramatic increases in launches from 2013 through the present are likely a result of the rush to add new remote sensing platforms in orbit. The final year 2020 is not complete, and hence shows a substantial drop in total launches. We could drop 2020 to clean up the figure. "
   ]
  },
  {
   "cell_type": "markdown",
   "metadata": {},
   "source": [
    "# Question: Which company has highest success rate? \n",
    "Here, we will look at the success rate of each company. Success is defined as the proportion of total launches that were a success. "
   ]
  },
  {
   "cell_type": "code",
   "execution_count": 152,
   "metadata": {},
   "outputs": [
    {
     "data": {
      "image/png": "[encoded data removed]",
      "text/plain": [
       "<Figure size 432x288 with 1 Axes>"
      ]
     },
     "metadata": {
      "needs_background": "light"
     },
     "output_type": "display_data"
    }
   ],
   "source": [
    "# Create df that contains the success rate for each company. \n",
    "# each row = company; columns = ['Company_Name' 'success_rate', 'n']\n",
    "# Get Success Rate by company\n",
    "success_rate = space_df.groupby(['Company_Name'])['Success'].mean()\n",
    "\n",
    "# Get number of launches\n",
    "company_n = space_df.Company_Name.value_counts()\n",
    "\n",
    "# Combine summary dat\n",
    "frames = [success_rate, company_n] # create list of dataframes to combine\n",
    "company_df = pd.concat(frames, axis=1) # concatenate the frames\n",
    "\n",
    "# Rename columns since the value_counts function adds the column name as the new name, which is unhelpful. \n",
    "company_df = company_df.rename(columns={\"Success\": \"success_rate\", \"Company_Name\": \"Launches\"})\n",
    "\n",
    "# Add Company_Name as a column in addition to it being the index\n",
    "company_df['Company_Name'] = company_df.index\n",
    "\n",
    "# plot success rate by company\n",
    "company_df.success_rate.sort_values().plot(kind=\"bar\", use_index=True)\n",
    "plt.show()\n"
   ]
  },
  {
   "cell_type": "markdown",
   "metadata": {},
   "source": [
    "The formatting of this figure is poor since there a lot of companies, but we can see that most companies have success rates above 0.8. Some companies have only a few launches; we might want to consider only those with enough launches to be indicative of their actual performance. We could look at sample sizes and significance, but for now, let's just consider a sample size of 10. "
   ]
  },
  {
   "cell_type": "code",
   "execution_count": 153,
   "metadata": {},
   "outputs": [
    {
     "data": {
      "image/png": "[encoded data removed]",
      "text/plain": [
       "<Figure size 432x288 with 1 Axes>"
      ]
     },
     "metadata": {
      "needs_background": "light"
     },
     "output_type": "display_data"
    },
    {
     "data": {
      "text/html": [
       "<div>\n",
       "<style scoped>\n",
       "    .dataframe tbody tr th:only-of-type {\n",
       "        vertical-align: middle;\n",
       "    }\n",
       "\n",
       "    .dataframe tbody tr th {\n",
       "        vertical-align: top;\n",
       "    }\n",
       "\n",
       "    .dataframe thead th {\n",
       "        text-align: right;\n",
       "    }\n",
       "</style>\n",
       "<table border=\"1\" class=\"dataframe\">\n",
       "  <thead>\n",
       "    <tr style=\"text-align: right;\">\n",
       "      <th></th>\n",
       "      <th>success_rate</th>\n",
       "      <th>Launches</th>\n",
       "      <th>Company_Name</th>\n",
       "    </tr>\n",
       "  </thead>\n",
       "  <tbody>\n",
       "    <tr>\n",
       "      <th>Blue Origin</th>\n",
       "      <td>1.000000</td>\n",
       "      <td>12</td>\n",
       "      <td>Blue Origin</td>\n",
       "    </tr>\n",
       "    <tr>\n",
       "      <th>ULA</th>\n",
       "      <td>0.992857</td>\n",
       "      <td>140</td>\n",
       "      <td>ULA</td>\n",
       "    </tr>\n",
       "    <tr>\n",
       "      <th>ILS</th>\n",
       "      <td>0.978261</td>\n",
       "      <td>46</td>\n",
       "      <td>ILS</td>\n",
       "    </tr>\n",
       "    <tr>\n",
       "      <th>Arianespace</th>\n",
       "      <td>0.964158</td>\n",
       "      <td>279</td>\n",
       "      <td>Arianespace</td>\n",
       "    </tr>\n",
       "    <tr>\n",
       "      <th>Boeing</th>\n",
       "      <td>0.963235</td>\n",
       "      <td>136</td>\n",
       "      <td>Boeing</td>\n",
       "    </tr>\n",
       "    <tr>\n",
       "      <th>Kosmotras</th>\n",
       "      <td>0.954545</td>\n",
       "      <td>22</td>\n",
       "      <td>Kosmotras</td>\n",
       "    </tr>\n",
       "    <tr>\n",
       "      <th>MHI</th>\n",
       "      <td>0.952381</td>\n",
       "      <td>84</td>\n",
       "      <td>MHI</td>\n",
       "    </tr>\n",
       "    <tr>\n",
       "      <th>SpaceX</th>\n",
       "      <td>0.940000</td>\n",
       "      <td>100</td>\n",
       "      <td>SpaceX</td>\n",
       "    </tr>\n",
       "    <tr>\n",
       "      <th>Lockheed</th>\n",
       "      <td>0.936709</td>\n",
       "      <td>79</td>\n",
       "      <td>Lockheed</td>\n",
       "    </tr>\n",
       "    <tr>\n",
       "      <th>VKS RF</th>\n",
       "      <td>0.935323</td>\n",
       "      <td>201</td>\n",
       "      <td>VKS RF</td>\n",
       "    </tr>\n",
       "    <tr>\n",
       "      <th>Roscosmos</th>\n",
       "      <td>0.927273</td>\n",
       "      <td>55</td>\n",
       "      <td>Roscosmos</td>\n",
       "    </tr>\n",
       "    <tr>\n",
       "      <th>Eurockot</th>\n",
       "      <td>0.923077</td>\n",
       "      <td>13</td>\n",
       "      <td>Eurockot</td>\n",
       "    </tr>\n",
       "    <tr>\n",
       "      <th>CASC</th>\n",
       "      <td>0.920319</td>\n",
       "      <td>251</td>\n",
       "      <td>CASC</td>\n",
       "    </tr>\n",
       "    <tr>\n",
       "      <th>Sea Launch</th>\n",
       "      <td>0.916667</td>\n",
       "      <td>36</td>\n",
       "      <td>Sea Launch</td>\n",
       "    </tr>\n",
       "    <tr>\n",
       "      <th>NASA</th>\n",
       "      <td>0.916256</td>\n",
       "      <td>203</td>\n",
       "      <td>NASA</td>\n",
       "    </tr>\n",
       "    <tr>\n",
       "      <th>RVSN USSR</th>\n",
       "      <td>0.908272</td>\n",
       "      <td>1777</td>\n",
       "      <td>RVSN USSR</td>\n",
       "    </tr>\n",
       "    <tr>\n",
       "      <th>ExPace</th>\n",
       "      <td>0.900000</td>\n",
       "      <td>10</td>\n",
       "      <td>ExPace</td>\n",
       "    </tr>\n",
       "    <tr>\n",
       "      <th>Northrop</th>\n",
       "      <td>0.891566</td>\n",
       "      <td>83</td>\n",
       "      <td>Northrop</td>\n",
       "    </tr>\n",
       "    <tr>\n",
       "      <th>Martin Marietta</th>\n",
       "      <td>0.877193</td>\n",
       "      <td>114</td>\n",
       "      <td>Martin Marietta</td>\n",
       "    </tr>\n",
       "    <tr>\n",
       "      <th>ISAS</th>\n",
       "      <td>0.866667</td>\n",
       "      <td>30</td>\n",
       "      <td>ISAS</td>\n",
       "    </tr>\n",
       "    <tr>\n",
       "      <th>Rocket Lab</th>\n",
       "      <td>0.846154</td>\n",
       "      <td>13</td>\n",
       "      <td>Rocket Lab</td>\n",
       "    </tr>\n",
       "    <tr>\n",
       "      <th>ISRO</th>\n",
       "      <td>0.828947</td>\n",
       "      <td>76</td>\n",
       "      <td>ISRO</td>\n",
       "    </tr>\n",
       "    <tr>\n",
       "      <th>IAI</th>\n",
       "      <td>0.818182</td>\n",
       "      <td>11</td>\n",
       "      <td>IAI</td>\n",
       "    </tr>\n",
       "    <tr>\n",
       "      <th>General Dynamics</th>\n",
       "      <td>0.808765</td>\n",
       "      <td>251</td>\n",
       "      <td>General Dynamics</td>\n",
       "    </tr>\n",
       "    <tr>\n",
       "      <th>US Air Force</th>\n",
       "      <td>0.801242</td>\n",
       "      <td>161</td>\n",
       "      <td>US Air Force</td>\n",
       "    </tr>\n",
       "    <tr>\n",
       "      <th>ESA</th>\n",
       "      <td>0.692308</td>\n",
       "      <td>13</td>\n",
       "      <td>ESA</td>\n",
       "    </tr>\n",
       "    <tr>\n",
       "      <th>ISA</th>\n",
       "      <td>0.307692</td>\n",
       "      <td>13</td>\n",
       "      <td>ISA</td>\n",
       "    </tr>\n",
       "    <tr>\n",
       "      <th>US Navy</th>\n",
       "      <td>0.117647</td>\n",
       "      <td>17</td>\n",
       "      <td>US Navy</td>\n",
       "    </tr>\n",
       "  </tbody>\n",
       "</table>\n",
       "</div>"
      ],
      "text/plain": [
       "                  success_rate  Launches      Company_Name\n",
       "Blue Origin           1.000000        12       Blue Origin\n",
       "ULA                   0.992857       140               ULA\n",
       "ILS                   0.978261        46               ILS\n",
       "Arianespace           0.964158       279       Arianespace\n",
       "Boeing                0.963235       136            Boeing\n",
       "Kosmotras             0.954545        22         Kosmotras\n",
       "MHI                   0.952381        84               MHI\n",
       "SpaceX                0.940000       100            SpaceX\n",
       "Lockheed              0.936709        79          Lockheed\n",
       "VKS RF                0.935323       201            VKS RF\n",
       "Roscosmos             0.927273        55         Roscosmos\n",
       "Eurockot              0.923077        13          Eurockot\n",
       "CASC                  0.920319       251              CASC\n",
       "Sea Launch            0.916667        36        Sea Launch\n",
       "NASA                  0.916256       203              NASA\n",
       "RVSN USSR             0.908272      1777         RVSN USSR\n",
       "ExPace                0.900000        10            ExPace\n",
       "Northrop              0.891566        83          Northrop\n",
       "Martin Marietta       0.877193       114   Martin Marietta\n",
       "ISAS                  0.866667        30              ISAS\n",
       "Rocket Lab            0.846154        13        Rocket Lab\n",
       "ISRO                  0.828947        76              ISRO\n",
       "IAI                   0.818182        11               IAI\n",
       "General Dynamics      0.808765       251  General Dynamics\n",
       "US Air Force          0.801242       161      US Air Force\n",
       "ESA                   0.692308        13               ESA\n",
       "ISA                   0.307692        13               ISA\n",
       "US Navy               0.117647        17           US Navy"
      ]
     },
     "execution_count": 153,
     "metadata": {},
     "output_type": "execute_result"
    }
   ],
   "source": [
    "# Create dataset with companies that have 10 or more launches\n",
    "company_df_g10 = company_df[company_df['Launches'] >= 10]\n",
    "\n",
    "# plot success rate by company & look at values\n",
    "company_df_g10.success_rate.sort_values().plot(kind=\"bar\", use_index=True)\n",
    "plt.show()\n",
    "\n",
    "company_df_g10.sort_values(by=['success_rate'], ascending=False)"
   ]
  },
  {
   "cell_type": "markdown",
   "metadata": {},
   "source": [
    "Blue Origin, a company from Texas USA, appears to have the highest success rate, with 12 launches, and the US Navy appears to have the worst success rate with 17 launches. It would be interesting to explore why the Navy has such a low success rate. Similarly, the ISA (from Iran) has a very poor success rate. "
   ]
  },
  {
   "cell_type": "markdown",
   "metadata": {},
   "source": [
    "# Question: Do companies that spend more have higher success rates?"
   ]
  },
  {
   "cell_type": "code",
   "execution_count": 154,
   "metadata": {},
   "outputs": [
    {
     "data": {
      "text/html": [
       "<div>\n",
       "<style scoped>\n",
       "    .dataframe tbody tr th:only-of-type {\n",
       "        vertical-align: middle;\n",
       "    }\n",
       "\n",
       "    .dataframe tbody tr th {\n",
       "        vertical-align: top;\n",
       "    }\n",
       "\n",
       "    .dataframe thead th {\n",
       "        text-align: right;\n",
       "    }\n",
       "</style>\n",
       "<table border=\"1\" class=\"dataframe\">\n",
       "  <thead>\n",
       "    <tr style=\"text-align: right;\">\n",
       "      <th></th>\n",
       "      <th>success_rate</th>\n",
       "      <th>Launches</th>\n",
       "      <th>Company_Name</th>\n",
       "      <th>Rocket_Price</th>\n",
       "    </tr>\n",
       "    <tr>\n",
       "      <th>Company_Name</th>\n",
       "      <th></th>\n",
       "      <th></th>\n",
       "      <th></th>\n",
       "      <th></th>\n",
       "    </tr>\n",
       "  </thead>\n",
       "  <tbody>\n",
       "    <tr>\n",
       "      <th>AEB</th>\n",
       "      <td>0.000000</td>\n",
       "      <td>3</td>\n",
       "      <td>AEB</td>\n",
       "      <td>NaN</td>\n",
       "    </tr>\n",
       "    <tr>\n",
       "      <th>AMBA</th>\n",
       "      <td>0.500000</td>\n",
       "      <td>8</td>\n",
       "      <td>AMBA</td>\n",
       "      <td>NaN</td>\n",
       "    </tr>\n",
       "    <tr>\n",
       "      <th>ASI</th>\n",
       "      <td>1.000000</td>\n",
       "      <td>9</td>\n",
       "      <td>ASI</td>\n",
       "      <td>NaN</td>\n",
       "    </tr>\n",
       "    <tr>\n",
       "      <th>Arianespace</th>\n",
       "      <td>0.964158</td>\n",
       "      <td>279</td>\n",
       "      <td>Arianespace</td>\n",
       "      <td>170.260417</td>\n",
       "    </tr>\n",
       "    <tr>\n",
       "      <th>Arm??e de l'Air</th>\n",
       "      <td>0.750000</td>\n",
       "      <td>4</td>\n",
       "      <td>Arm??e de l'Air</td>\n",
       "      <td>NaN</td>\n",
       "    </tr>\n",
       "  </tbody>\n",
       "</table>\n",
       "</div>"
      ],
      "text/plain": [
       "                 success_rate  Launches     Company_Name  Rocket_Price\n",
       "Company_Name                                                          \n",
       "AEB                  0.000000         3              AEB           NaN\n",
       "AMBA                 0.500000         8             AMBA           NaN\n",
       "ASI                  1.000000         9              ASI           NaN\n",
       "Arianespace          0.964158       279      Arianespace    170.260417\n",
       "Arm??e de l'Air      0.750000         4  Arm??e de l'Air           NaN"
      ]
     },
     "execution_count": 154,
     "metadata": {},
     "output_type": "execute_result"
    }
   ],
   "source": [
    "# Get average amount of money spent on launches\n",
    "money_spent = space_df.groupby(['Company_Name'])['Rocket_Price'].mean()\n",
    "\n",
    "# Combine summary dat\n",
    "frames = [company_df, money_spent] # create list of dataframes to combine\n",
    "company_df = pd.concat(frames, axis=1) # concatenate the frames\n",
    "\n",
    "# Look at summary data again\n",
    "company_df.head()\n"
   ]
  },
  {
   "cell_type": "markdown",
   "metadata": {},
   "source": [
    "There are missing values in the 'Rocket_Price'. The mean function ignores these missing values, but it looks like many companies have not reported Rocket_Price, we will have to drop these companies. "
   ]
  },
  {
   "cell_type": "code",
   "execution_count": 155,
   "metadata": {},
   "outputs": [
    {
     "data": {
      "image/png": "[encoded data removed]",
      "text/plain": [
       "<Figure size 432x288 with 1 Axes>"
      ]
     },
     "metadata": {
      "needs_background": "light"
     },
     "output_type": "display_data"
    }
   ],
   "source": [
    "# Create dataset with companies that have 10 or more launches\n",
    "company_df_g10 = company_df[company_df['Launches'] >= 10]\n",
    "\n",
    "# Create dataset with companies that have reported Rocket_Price\n",
    "company_df_rktpce = company_df_g10.dropna()\n",
    "\n",
    "# plot the amount of money \n",
    "plt.plot(company_df_rktpce['Rocket_Price'], company_df_rktpce['success_rate'], 'o');\n",
    "plt.xlabel('Rocket_Price')\n",
    "plt.ylabel('success_rate')\n",
    "plt.show()\n"
   ]
  },
  {
   "cell_type": "markdown",
   "metadata": {},
   "source": [
    "It doesn't look like there is much of a relationship here, though there is one outlier that we might want to remove. It looks like there was one rocket with a cost of 5000 million. This is likely an error or other mistake."
   ]
  },
  {
   "cell_type": "code",
   "execution_count": 156,
   "metadata": {},
   "outputs": [
    {
     "data": {
      "image/png": "[encoded data removed]",
      "text/plain": [
       "<Figure size 432x288 with 1 Axes>"
      ]
     },
     "metadata": {
      "needs_background": "light"
     },
     "output_type": "display_data"
    }
   ],
   "source": [
    "# Drop company with Rocket_Price error. \n",
    "company_df_rktpce = company_df_rktpce[company_df_rktpce['Rocket_Price'] < 1000]\n",
    "\n",
    "# plot the amount of money \n",
    "plt.plot(company_df_rktpce['Rocket_Price'], company_df_rktpce['success_rate'], 'o');\n",
    "plt.xlabel('Rocket_Price')\n",
    "plt.ylabel('success_rate')\n",
    "plt.show()"
   ]
  },
  {
   "cell_type": "markdown",
   "metadata": {},
   "source": [
    "There is still no apparent trend, but again, there is one outlier. This may not be a mistake, we would need to investigate further. But let's look at the relationship if we drop this outlier. "
   ]
  },
  {
   "cell_type": "code",
   "execution_count": 157,
   "metadata": {},
   "outputs": [
    {
     "data": {
      "text/html": [
       "<div>\n",
       "<style scoped>\n",
       "    .dataframe tbody tr th:only-of-type {\n",
       "        vertical-align: middle;\n",
       "    }\n",
       "\n",
       "    .dataframe tbody tr th {\n",
       "        vertical-align: top;\n",
       "    }\n",
       "\n",
       "    .dataframe thead th {\n",
       "        text-align: right;\n",
       "    }\n",
       "</style>\n",
       "<table border=\"1\" class=\"dataframe\">\n",
       "  <thead>\n",
       "    <tr style=\"text-align: right;\">\n",
       "      <th></th>\n",
       "      <th>success_rate</th>\n",
       "      <th>Launches</th>\n",
       "      <th>Company_Name</th>\n",
       "      <th>Rocket_Price</th>\n",
       "    </tr>\n",
       "    <tr>\n",
       "      <th>Company_Name</th>\n",
       "      <th></th>\n",
       "      <th></th>\n",
       "      <th></th>\n",
       "      <th></th>\n",
       "    </tr>\n",
       "  </thead>\n",
       "  <tbody>\n",
       "    <tr>\n",
       "      <th>NASA</th>\n",
       "      <td>0.916256</td>\n",
       "      <td>203</td>\n",
       "      <td>NASA</td>\n",
       "      <td>511.946309</td>\n",
       "    </tr>\n",
       "    <tr>\n",
       "      <th>Boeing</th>\n",
       "      <td>0.963235</td>\n",
       "      <td>136</td>\n",
       "      <td>Boeing</td>\n",
       "      <td>177.285714</td>\n",
       "    </tr>\n",
       "    <tr>\n",
       "      <th>Arianespace</th>\n",
       "      <td>0.964158</td>\n",
       "      <td>279</td>\n",
       "      <td>Arianespace</td>\n",
       "      <td>170.260417</td>\n",
       "    </tr>\n",
       "    <tr>\n",
       "      <th>ULA</th>\n",
       "      <td>0.992857</td>\n",
       "      <td>140</td>\n",
       "      <td>ULA</td>\n",
       "      <td>151.000000</td>\n",
       "    </tr>\n",
       "    <tr>\n",
       "      <th>ILS</th>\n",
       "      <td>0.978261</td>\n",
       "      <td>46</td>\n",
       "      <td>ILS</td>\n",
       "      <td>101.538462</td>\n",
       "    </tr>\n",
       "    <tr>\n",
       "      <th>MHI</th>\n",
       "      <td>0.952381</td>\n",
       "      <td>84</td>\n",
       "      <td>MHI</td>\n",
       "      <td>95.472973</td>\n",
       "    </tr>\n",
       "    <tr>\n",
       "      <th>Martin Marietta</th>\n",
       "      <td>0.877193</td>\n",
       "      <td>114</td>\n",
       "      <td>Martin Marietta</td>\n",
       "      <td>80.155556</td>\n",
       "    </tr>\n",
       "    <tr>\n",
       "      <th>US Air Force</th>\n",
       "      <td>0.801242</td>\n",
       "      <td>161</td>\n",
       "      <td>US Air Force</td>\n",
       "      <td>59.650769</td>\n",
       "    </tr>\n",
       "    <tr>\n",
       "      <th>SpaceX</th>\n",
       "      <td>0.940000</td>\n",
       "      <td>100</td>\n",
       "      <td>SpaceX</td>\n",
       "      <td>54.989899</td>\n",
       "    </tr>\n",
       "    <tr>\n",
       "      <th>Roscosmos</th>\n",
       "      <td>0.927273</td>\n",
       "      <td>55</td>\n",
       "      <td>Roscosmos</td>\n",
       "      <td>51.630435</td>\n",
       "    </tr>\n",
       "    <tr>\n",
       "      <th>Northrop</th>\n",
       "      <td>0.891566</td>\n",
       "      <td>83</td>\n",
       "      <td>Northrop</td>\n",
       "      <td>47.349398</td>\n",
       "    </tr>\n",
       "    <tr>\n",
       "      <th>VKS RF</th>\n",
       "      <td>0.935323</td>\n",
       "      <td>201</td>\n",
       "      <td>VKS RF</td>\n",
       "      <td>46.936364</td>\n",
       "    </tr>\n",
       "    <tr>\n",
       "      <th>Eurockot</th>\n",
       "      <td>0.923077</td>\n",
       "      <td>13</td>\n",
       "      <td>Eurockot</td>\n",
       "      <td>41.800000</td>\n",
       "    </tr>\n",
       "    <tr>\n",
       "      <th>CASC</th>\n",
       "      <td>0.920319</td>\n",
       "      <td>251</td>\n",
       "      <td>CASC</td>\n",
       "      <td>40.128228</td>\n",
       "    </tr>\n",
       "    <tr>\n",
       "      <th>ESA</th>\n",
       "      <td>0.692308</td>\n",
       "      <td>13</td>\n",
       "      <td>ESA</td>\n",
       "      <td>37.000000</td>\n",
       "    </tr>\n",
       "    <tr>\n",
       "      <th>Lockheed</th>\n",
       "      <td>0.936709</td>\n",
       "      <td>79</td>\n",
       "      <td>Lockheed</td>\n",
       "      <td>35.000000</td>\n",
       "    </tr>\n",
       "    <tr>\n",
       "      <th>ISRO</th>\n",
       "      <td>0.828947</td>\n",
       "      <td>76</td>\n",
       "      <td>ISRO</td>\n",
       "      <td>32.492537</td>\n",
       "    </tr>\n",
       "    <tr>\n",
       "      <th>Kosmotras</th>\n",
       "      <td>0.954545</td>\n",
       "      <td>22</td>\n",
       "      <td>Kosmotras</td>\n",
       "      <td>29.000000</td>\n",
       "    </tr>\n",
       "    <tr>\n",
       "      <th>ExPace</th>\n",
       "      <td>0.900000</td>\n",
       "      <td>10</td>\n",
       "      <td>ExPace</td>\n",
       "      <td>28.300000</td>\n",
       "    </tr>\n",
       "    <tr>\n",
       "      <th>Rocket Lab</th>\n",
       "      <td>0.846154</td>\n",
       "      <td>13</td>\n",
       "      <td>Rocket Lab</td>\n",
       "      <td>7.500000</td>\n",
       "    </tr>\n",
       "  </tbody>\n",
       "</table>\n",
       "</div>"
      ],
      "text/plain": [
       "                 success_rate  Launches     Company_Name  Rocket_Price\n",
       "Company_Name                                                          \n",
       "NASA                 0.916256       203             NASA    511.946309\n",
       "Boeing               0.963235       136           Boeing    177.285714\n",
       "Arianespace          0.964158       279      Arianespace    170.260417\n",
       "ULA                  0.992857       140              ULA    151.000000\n",
       "ILS                  0.978261        46              ILS    101.538462\n",
       "MHI                  0.952381        84              MHI     95.472973\n",
       "Martin Marietta      0.877193       114  Martin Marietta     80.155556\n",
       "US Air Force         0.801242       161     US Air Force     59.650769\n",
       "SpaceX               0.940000       100           SpaceX     54.989899\n",
       "Roscosmos            0.927273        55        Roscosmos     51.630435\n",
       "Northrop             0.891566        83         Northrop     47.349398\n",
       "VKS RF               0.935323       201           VKS RF     46.936364\n",
       "Eurockot             0.923077        13         Eurockot     41.800000\n",
       "CASC                 0.920319       251             CASC     40.128228\n",
       "ESA                  0.692308        13              ESA     37.000000\n",
       "Lockheed             0.936709        79         Lockheed     35.000000\n",
       "ISRO                 0.828947        76             ISRO     32.492537\n",
       "Kosmotras            0.954545        22        Kosmotras     29.000000\n",
       "ExPace               0.900000        10           ExPace     28.300000\n",
       "Rocket Lab           0.846154        13       Rocket Lab      7.500000"
      ]
     },
     "execution_count": 157,
     "metadata": {},
     "output_type": "execute_result"
    }
   ],
   "source": [
    "# Look at Rocket_Price\n",
    "company_df_rktpce.sort_values(by=['Rocket_Price'], ascending=False)"
   ]
  },
  {
   "cell_type": "markdown",
   "metadata": {},
   "source": [
    "It looks like NASA has spent, on average, 511 million per rocket. This may or may not be a mistake, but let's look at the relationship without NASA."
   ]
  },
  {
   "cell_type": "code",
   "execution_count": 158,
   "metadata": {},
   "outputs": [
    {
     "data": {
      "image/png": "[encoded data removed]",
      "text/plain": [
       "<Figure size 432x288 with 1 Axes>"
      ]
     },
     "metadata": {
      "needs_background": "light"
     },
     "output_type": "display_data"
    }
   ],
   "source": [
    "# Drop NASA\n",
    "company_df_rktpce = company_df_rktpce[company_df_rktpce['Company_Name'] != 'NASA']\n",
    "\n",
    "# plot the amount of money \n",
    "plt.plot(company_df_rktpce['Rocket_Price'], company_df_rktpce['success_rate'], 'o');\n",
    "plt.xlabel('Rocket_Price')\n",
    "plt.ylabel('success_rate')\n",
    "plt.show()"
   ]
  },
  {
   "cell_type": "markdown",
   "metadata": {},
   "source": [
    "There may be a relationship between Rocket Price and Success rate. We can check using a simple linear model."
   ]
  },
  {
   "cell_type": "code",
   "execution_count": 159,
   "metadata": {},
   "outputs": [
    {
     "name": "stdout",
     "output_type": "stream",
     "text": [
      "0.21296410991481018\n",
      "-2.9754771331129355\n"
     ]
    }
   ],
   "source": [
    "# Create simple linear fit model to see if Rocket Price is indicative of Success.\n",
    "\n",
    "# create dataframe for X,y\n",
    "X = company_df_rktpce[['Rocket_Price']]\n",
    "y = company_df_rktpce[['success_rate']]\n",
    "\n",
    "# split out some training and testing datasets\n",
    "X_train, X_test, y_train, y_test = train_test_split(X, y, test_size = .30, random_state=42) \n",
    "\n",
    "# initialize and fit model\n",
    "lm_model = LinearRegression(normalize=True) \n",
    "lm_model.fit(X_train, y_train) \n",
    "\n",
    "# predict response with testing dataset \n",
    "y_test_preds = lm_model.predict(X_test)\n",
    "y_train_preds = lm_model.predict(X_train) \n",
    "\n",
    "# look at simple test metric of R2\n",
    "train_score = r2_score(y_train, y_train_preds)\n",
    "print(train_score)\n",
    "test_score = r2_score(y_test, y_test_preds)\n",
    "print(test_score)"
   ]
  },
  {
   "cell_type": "markdown",
   "metadata": {},
   "source": [
    "The R2 train and test metrices are very low. Approximately 20% of variance in success rate is explained by Rocket Price on the training dataset. The negative test R2 value is also indicative of a very poor model fit and low sample size (20). A nonlinear model may improve fit, but we won't delve into that here. Instead, lets just get the correlation coefficent between the two since our sample size is likely too low for creating training/testing partition."
   ]
  },
  {
   "cell_type": "code",
   "execution_count": 160,
   "metadata": {},
   "outputs": [
    {
     "data": {
      "text/html": [
       "<div>\n",
       "<style scoped>\n",
       "    .dataframe tbody tr th:only-of-type {\n",
       "        vertical-align: middle;\n",
       "    }\n",
       "\n",
       "    .dataframe tbody tr th {\n",
       "        vertical-align: top;\n",
       "    }\n",
       "\n",
       "    .dataframe thead th {\n",
       "        text-align: right;\n",
       "    }\n",
       "</style>\n",
       "<table border=\"1\" class=\"dataframe\">\n",
       "  <thead>\n",
       "    <tr style=\"text-align: right;\">\n",
       "      <th></th>\n",
       "      <th>success_rate</th>\n",
       "      <th>Rocket_Price</th>\n",
       "    </tr>\n",
       "  </thead>\n",
       "  <tbody>\n",
       "    <tr>\n",
       "      <th>success_rate</th>\n",
       "      <td>1.000000</td>\n",
       "      <td>0.403509</td>\n",
       "    </tr>\n",
       "    <tr>\n",
       "      <th>Rocket_Price</th>\n",
       "      <td>0.403509</td>\n",
       "      <td>1.000000</td>\n",
       "    </tr>\n",
       "  </tbody>\n",
       "</table>\n",
       "</div>"
      ],
      "text/plain": [
       "              success_rate  Rocket_Price\n",
       "success_rate      1.000000      0.403509\n",
       "Rocket_Price      0.403509      1.000000"
      ]
     },
     "execution_count": 160,
     "metadata": {},
     "output_type": "execute_result"
    }
   ],
   "source": [
    "# look at correlation coefficient between Rocket Price and Success Rate. Since these are not normally distributed,\n",
    "# we will use Kendall's rank correlation. \n",
    "company_df_rktpce[['success_rate', 'Rocket_Price']].corr(method ='kendall')"
   ]
  },
  {
   "cell_type": "markdown",
   "metadata": {},
   "source": [
    "The correlation is rather low (0.4), which suggests only moderate association between Rocket Price and Success Rate.\n",
    "\n",
    "What about the number of launches, does that seem to influence success rate?"
   ]
  },
  {
   "cell_type": "code",
   "execution_count": 161,
   "metadata": {},
   "outputs": [
    {
     "data": {
      "image/png": "[encoded data removed]",
      "text/plain": [
       "<Figure size 432x288 with 1 Axes>"
      ]
     },
     "metadata": {
      "needs_background": "light"
     },
     "output_type": "display_data"
    }
   ],
   "source": [
    "# plot the number of launches against success rate.\n",
    "plt.plot(company_df_rktpce['Launches'], company_df_rktpce['success_rate'], 'o');\n",
    "plt.xlabel('Launches')\n",
    "plt.ylabel('success_rate')\n",
    "plt.show()"
   ]
  },
  {
   "cell_type": "markdown",
   "metadata": {},
   "source": [
    "It is unlikely that there is a relationship here. "
   ]
  },
  {
   "cell_type": "markdown",
   "metadata": {},
   "source": [
    "Is there a relationship between the number of launches per year and the yearly success rate? "
   ]
  },
  {
   "cell_type": "code",
   "execution_count": 162,
   "metadata": {},
   "outputs": [
    {
     "data": {
      "image/png": "[encoded data removed]",
      "text/plain": [
       "<Figure size 432x288 with 1 Axes>"
      ]
     },
     "metadata": {
      "needs_background": "light"
     },
     "output_type": "display_data"
    }
   ],
   "source": [
    "# Look at launches and success rate\n",
    "plt.plot(YEAR_df.Launches, YEAR_df.success_rate, 'o');\n",
    "plt.xlabel('Number of Launches')\n",
    "plt.ylabel('success_rate')\n",
    "plt.show()"
   ]
  },
  {
   "cell_type": "markdown",
   "metadata": {},
   "source": [
    "It's unlikely that there is a significant relatinship here. But we can check using linear model. "
   ]
  },
  {
   "cell_type": "code",
   "execution_count": 163,
   "metadata": {},
   "outputs": [
    {
     "name": "stdout",
     "output_type": "stream",
     "text": [
      "0.14025825752007548\n",
      "-0.00021890414969671923\n"
     ]
    }
   ],
   "source": [
    "# Create simple linear fit model to see if the number of launches\n",
    "# per year is related to success rate.\n",
    "\n",
    "# create dataframe for X,y\n",
    "X = YEAR_df[['Launches']]\n",
    "y = YEAR_df['success_rate']\n",
    "\n",
    "# split out some training and testing datasets\n",
    "X_train, X_test, y_train, y_test = train_test_split(X, y, test_size = .30, random_state=42) \n",
    "\n",
    "# initialize and fit model\n",
    "lm_model = LinearRegression(normalize=True) \n",
    "lm_model.fit(X_train, y_train) \n",
    "\n",
    "# predict response with testing dataset \n",
    "y_test_preds = lm_model.predict(X_test)\n",
    "y_train_preds = lm_model.predict(X_train) \n",
    "\n",
    "# simple test metric of R2\n",
    "train_score = r2_score(y_train, y_train_preds)\n",
    "print(train_score)\n",
    "test_score = r2_score(y_test, y_test_preds)\n",
    "print(test_score)"
   ]
  },
  {
   "cell_type": "markdown",
   "metadata": {},
   "source": [
    "R2 training and test scores are very low. We will need additional stats to determine if total number of launches per year show any relationship with launch success. "
   ]
  },
  {
   "cell_type": "markdown",
   "metadata": {},
   "source": [
    "# Does launch success improve with experience?"
   ]
  },
  {
   "cell_type": "code",
   "execution_count": 185,
   "metadata": {},
   "outputs": [
    {
     "data": {
      "text/html": [
       "<div>\n",
       "<style scoped>\n",
       "    .dataframe tbody tr th:only-of-type {\n",
       "        vertical-align: middle;\n",
       "    }\n",
       "\n",
       "    .dataframe tbody tr th {\n",
       "        vertical-align: top;\n",
       "    }\n",
       "\n",
       "    .dataframe thead th {\n",
       "        text-align: right;\n",
       "    }\n",
       "</style>\n",
       "<table border=\"1\" class=\"dataframe\">\n",
       "  <thead>\n",
       "    <tr style=\"text-align: right;\">\n",
       "      <th></th>\n",
       "      <th>SucessFail</th>\n",
       "      <th>Company_Name</th>\n",
       "      <th>Rocket_Price</th>\n",
       "      <th>date_time</th>\n",
       "      <th>YEAR</th>\n",
       "      <th>MONTH</th>\n",
       "      <th>WEEK</th>\n",
       "      <th>WEEKDAY</th>\n",
       "      <th>Failure</th>\n",
       "      <th>Success</th>\n",
       "      <th>Index1</th>\n",
       "      <th>CumLaunches</th>\n",
       "      <th>success_mv_ave</th>\n",
       "    </tr>\n",
       "  </thead>\n",
       "  <tbody>\n",
       "    <tr>\n",
       "      <th>929</th>\n",
       "      <td>Failure</td>\n",
       "      <td>SpaceX</td>\n",
       "      <td>7.0</td>\n",
       "      <td>2006-03-24</td>\n",
       "      <td>2006</td>\n",
       "      <td>3</td>\n",
       "      <td>12</td>\n",
       "      <td>Fri</td>\n",
       "      <td>1</td>\n",
       "      <td>0</td>\n",
       "      <td>1</td>\n",
       "      <td>1</td>\n",
       "      <td>NaN</td>\n",
       "    </tr>\n",
       "    <tr>\n",
       "      <th>879</th>\n",
       "      <td>Failure</td>\n",
       "      <td>SpaceX</td>\n",
       "      <td>7.0</td>\n",
       "      <td>2007-03-21</td>\n",
       "      <td>2007</td>\n",
       "      <td>3</td>\n",
       "      <td>12</td>\n",
       "      <td>Wed</td>\n",
       "      <td>1</td>\n",
       "      <td>0</td>\n",
       "      <td>1</td>\n",
       "      <td>2</td>\n",
       "      <td>NaN</td>\n",
       "    </tr>\n",
       "    <tr>\n",
       "      <th>808</th>\n",
       "      <td>Failure</td>\n",
       "      <td>SpaceX</td>\n",
       "      <td>7.0</td>\n",
       "      <td>2008-08-03</td>\n",
       "      <td>2008</td>\n",
       "      <td>8</td>\n",
       "      <td>31</td>\n",
       "      <td>Sun</td>\n",
       "      <td>1</td>\n",
       "      <td>0</td>\n",
       "      <td>1</td>\n",
       "      <td>3</td>\n",
       "      <td>NaN</td>\n",
       "    </tr>\n",
       "    <tr>\n",
       "      <th>800</th>\n",
       "      <td>Success</td>\n",
       "      <td>SpaceX</td>\n",
       "      <td>7.0</td>\n",
       "      <td>2008-09-28</td>\n",
       "      <td>2008</td>\n",
       "      <td>9</td>\n",
       "      <td>39</td>\n",
       "      <td>Sun</td>\n",
       "      <td>0</td>\n",
       "      <td>1</td>\n",
       "      <td>1</td>\n",
       "      <td>4</td>\n",
       "      <td>NaN</td>\n",
       "    </tr>\n",
       "    <tr>\n",
       "      <th>763</th>\n",
       "      <td>Success</td>\n",
       "      <td>SpaceX</td>\n",
       "      <td>7.0</td>\n",
       "      <td>2009-07-14</td>\n",
       "      <td>2009</td>\n",
       "      <td>7</td>\n",
       "      <td>29</td>\n",
       "      <td>Tue</td>\n",
       "      <td>0</td>\n",
       "      <td>1</td>\n",
       "      <td>1</td>\n",
       "      <td>5</td>\n",
       "      <td>0.4</td>\n",
       "    </tr>\n",
       "  </tbody>\n",
       "</table>\n",
       "</div>"
      ],
      "text/plain": [
       "    SucessFail Company_Name  Rocket_Price  date_time  YEAR MONTH  WEEK  \\\n",
       "929    Failure       SpaceX           7.0 2006-03-24  2006     3    12   \n",
       "879    Failure       SpaceX           7.0 2007-03-21  2007     3    12   \n",
       "808    Failure       SpaceX           7.0 2008-08-03  2008     8    31   \n",
       "800    Success       SpaceX           7.0 2008-09-28  2008     9    39   \n",
       "763    Success       SpaceX           7.0 2009-07-14  2009     7    29   \n",
       "\n",
       "    WEEKDAY Failure Success Index1 CumLaunches  success_mv_ave  \n",
       "929     Fri       1       0      1           1             NaN  \n",
       "879     Wed       1       0      1           2             NaN  \n",
       "808     Sun       1       0      1           3             NaN  \n",
       "800     Sun       0       1      1           4             NaN  \n",
       "763     Tue       0       1      1           5             0.4  "
      ]
     },
     "execution_count": 185,
     "metadata": {},
     "output_type": "execute_result"
    }
   ],
   "source": [
    "# Create column with total number of launches by year for that particular company.\n",
    "# Create column with average success rate of past 5 launches for each company.\n",
    "\n",
    "# Create column of all 1's to use as summation field.space_df['Index1'] = 1\n",
    "\n",
    "# Create column to store cumulative values \n",
    "space_df['CumLaunches'] = 1\n",
    "\n",
    "# Create column to store rolling average of success\n",
    "space_df['success_mv_ave'] = 0\n",
    "\n",
    "# create blank dataset to join\n",
    "joindat = pd.DataFrame(columns = space_df.columns)\n",
    "\n",
    "# Function to create cumulative launch number for each launch by company. \n",
    "# Example: for a given company, we want to see if the probability of success increases from\n",
    "# the first to the last launch. Ie, does having more launches equate to higher launch success.\n",
    "def create_sum_launches(df, joindat, companies):\n",
    "    for cp in  companies:\n",
    "            try:\n",
    "                # create subset of launches for a given company and sort by date/time\n",
    "                x = df[df['Company_Name'] == cp].sort_values(by=['date_time'])\n",
    "                # get a running total of launches in the cumulative launches column\n",
    "                x['CumLaunches'] = x.Index1.cumsum()\n",
    "                # get a rolling average of success to be success rate of past 3 launches\n",
    "                x['success_mv_ave'] = x.Success.rolling(window=5).mean()\n",
    "                # set the dataframes to merge.\n",
    "                frames = [joindat, x]\n",
    "                joindat = pd.concat(frames, axis=0)\n",
    "            except:\n",
    "                continue\n",
    "    return joindat\n",
    "\n",
    "# Create list of Companies\n",
    "companies = space_df.Company_Name.unique()\n",
    "\n",
    "# Apply our function\n",
    "cumulative_launches_df = create_sum_launches(space_df, joindat, companies)\n",
    "\n",
    "# look at the resulting dataset\n",
    "cumulative_launches_df.head()"
   ]
  },
  {
   "cell_type": "code",
   "execution_count": 186,
   "metadata": {},
   "outputs": [
    {
     "data": {
      "image/png": "[encoded data removed]",
      "text/plain": [
       "<Figure size 432x288 with 1 Axes>"
      ]
     },
     "metadata": {
      "needs_background": "light"
     },
     "output_type": "display_data"
    }
   ],
   "source": [
    "# Plot success by cumulative launches\n",
    "plt.plot(cumulative_launches_df.CumLaunches, cumulative_launches_df.success_mv_ave, 'o', color='blue');\n",
    "plt.xlabel('Launch Number')\n",
    "plt.ylabel('Recent Success Rate')\n",
    "plt.show()"
   ]
  },
  {
   "cell_type": "markdown",
   "metadata": {},
   "source": [
    "There seems to be evidence that the cumulative launches to-date has a relationship with recent success rate, such that low cumulative launches equate to low (recent) success rates. However, low cumulative launches does not always equate to low success rate, as there are many instances of a high success rates with low cumulative launches. "
   ]
  },
  {
   "cell_type": "code",
   "execution_count": 165,
   "metadata": {},
   "outputs": [
    {
     "data": {
      "image/png": "[encoded data removed]",
      "text/plain": [
       "<Figure size 432x288 with 1 Axes>"
      ]
     },
     "metadata": {
      "needs_background": "light"
     },
     "output_type": "display_data"
    }
   ],
   "source": [
    "# Plot success by cumulative launches\n",
    "plt.plot(cumulative_launches_df.CumLaunches, cumulative_launches_df.Success, 'o', color='black');\n",
    "plt.xlabel('Launch Number')\n",
    "plt.ylabel('success_rate')\n",
    "plt.show()"
   ]
  },
  {
   "cell_type": "markdown",
   "metadata": {},
   "source": [
    "Doesn't look like there is much evidence that cumulative launches = higher probability of success. Let's fit a simple linear regression model to explore this further. "
   ]
  },
  {
   "cell_type": "code",
   "execution_count": 184,
   "metadata": {},
   "outputs": [
    {
     "name": "stdout",
     "output_type": "stream",
     "text": [
      "0.0037016334013677543\n",
      "-8.813166523302662e-05\n"
     ]
    }
   ],
   "source": [
    "# Create simple linear fit model to see if the mean week \n",
    "# per year is related to success rate.\n",
    "\n",
    "# create dataframe for X,y\n",
    "# cumulative_launches_df = cumulative_launches_df.dropna() # remove missing values caused by moving average\n",
    "X = cumulative_launches_df[['CumLaunches']]\n",
    "y = cumulative_launches_df['Success']\n",
    "# set y as integer for Logistic Regression\n",
    "y=y.astype('int')\n",
    "\n",
    "# split out some training and testing datasets\n",
    "X_train, X_test, y_train, y_test = train_test_split(X, y, test_size = .30, random_state=42) \n",
    "\n",
    "# linear Regression\n",
    "lm_model = LinearRegression(normalize=True) \n",
    "lm_model.fit(X_train, y_train) \n",
    "\n",
    "# predict response with testing dataset \n",
    "y_test_preds = lm_model.predict(X_test)\n",
    "y_train_preds = lm_model.predict(X_train) \n",
    "\n",
    "# simple test metric of R2\n",
    "train_score = r2_score(y_train, y_train_preds)\n",
    "print(train_score)\n",
    "test_score = r2_score(y_test, y_test_preds)\n",
    "print(test_score)"
   ]
  },
  {
   "cell_type": "markdown",
   "metadata": {},
   "source": [
    "Again, our testing and training R2 values are very low, indicating poor model fit. Clearly this model is not appropriate for these data. We will need to look into other model forms. There may be a threshold on cumulative launch experience, such that non-linear (GAM, or such) could be useful."
   ]
  }
 ],
 "metadata": {
  "kernelspec": {
   "display_name": "Python 3",
   "language": "python",
   "name": "python3"
  },
  "language_info": {
   "codemirror_mode": {
    "name": "ipython",
    "version": 3
   },
   "file_extension": ".py",
   "mimetype": "text/x-python",
   "name": "python",
   "nbconvert_exporter": "python",
   "pygments_lexer": "ipython3",
   "version": "3.7.7"
  }
 },
 "nbformat": 4,
 "nbformat_minor": 4
}
